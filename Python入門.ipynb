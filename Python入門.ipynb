{
 "cells": [
  {
   "cell_type": "markdown",
   "metadata": {},
   "source": [
    "# 導入：簡単な演算"
   ]
  },
  {
   "cell_type": "markdown",
   "metadata": {},
   "source": [
    "Jypeterを立ち上げ、「File」→「New Notebook」→「Python3」とすると、In [ ]: と表示された灰色の行が出力されるはずです。これをセルと呼びます。"
   ]
  },
  {
   "cell_type": "markdown",
   "metadata": {},
   "source": [
    "このセルに、式やコマンドを入力してコードを実行することが出来ます。\n",
    "\n",
    "あと、右上にある「Code」とあるプルダウンメニューを「Makedown」とすると、Notebookにテキストを書き込むことが出来ます。\n",
    "（このweb pageも、Jupyther Notebookにコードやテキストを入力して作成しています）"
   ]
  },
  {
   "cell_type": "markdown",
   "metadata": {},
   "source": [
    "では、コードを走らせてみましょう。下のようにセルに数式を入力して、ShiftキーとReturnキーを同時に押すと、そのコードが実行されます。\n",
    "（自分で入力しても良いですし、このページからコピー＆ペーストで入力してもかまいません。後半の長いコードはコピペが楽です）"
   ]
  },
  {
   "cell_type": "code",
   "execution_count": 1,
   "metadata": {},
   "outputs": [
    {
     "data": {
      "text/plain": [
       "5"
      ]
     },
     "execution_count": 1,
     "metadata": {},
     "output_type": "execute_result"
    }
   ],
   "source": [
    "3+2"
   ]
  },
  {
   "cell_type": "markdown",
   "metadata": {},
   "source": [
    "上のコードは、電卓のようですが、「2+3」という式を評価して値を出力するということを行っています。以下、四則演算などの方法を示します。\n",
    "\n",
    "（「#」以降はコメントとして無視されます。以降、コードの中に解説を入れるときに用います）"
   ]
  },
  {
   "cell_type": "code",
   "execution_count": 2,
   "metadata": {},
   "outputs": [
    {
     "data": {
      "text/plain": [
       "1"
      ]
     },
     "execution_count": 2,
     "metadata": {},
     "output_type": "execute_result"
    }
   ],
   "source": [
    "3-2  # 差"
   ]
  },
  {
   "cell_type": "code",
   "execution_count": 3,
   "metadata": {},
   "outputs": [
    {
     "data": {
      "text/plain": [
       "6"
      ]
     },
     "execution_count": 3,
     "metadata": {},
     "output_type": "execute_result"
    }
   ],
   "source": [
    "3*2  # 積"
   ]
  },
  {
   "cell_type": "code",
   "execution_count": 4,
   "metadata": {},
   "outputs": [
    {
     "data": {
      "text/plain": [
       "1.5"
      ]
     },
     "execution_count": 4,
     "metadata": {},
     "output_type": "execute_result"
    }
   ],
   "source": [
    "3/2  # 商"
   ]
  },
  {
   "cell_type": "code",
   "execution_count": 5,
   "metadata": {},
   "outputs": [
    {
     "data": {
      "text/plain": [
       "9"
      ]
     },
     "execution_count": 5,
     "metadata": {},
     "output_type": "execute_result"
    }
   ],
   "source": [
    "3**2  # べき乗"
   ]
  },
  {
   "cell_type": "code",
   "execution_count": 6,
   "metadata": {},
   "outputs": [
    {
     "data": {
      "text/plain": [
       "1"
      ]
     },
     "execution_count": 6,
     "metadata": {},
     "output_type": "execute_result"
    }
   ],
   "source": [
    "3 % 2 # 剰余"
   ]
  },
  {
   "cell_type": "markdown",
   "metadata": {},
   "source": [
    "次に、変数というものを考えます。これは、値が入っている箱のようなものをイメージしてもらうと良いかと思います。下のコードでは、aとbという箱に値を代入して、それを演算しています。このとき、記号「=」は等号ではなく、「右辺の値を左辺の変数に代入する」という操作を意味します。"
   ]
  },
  {
   "cell_type": "code",
   "execution_count": 7,
   "metadata": {},
   "outputs": [
    {
     "data": {
      "text/plain": [
       "5"
      ]
     },
     "execution_count": 7,
     "metadata": {},
     "output_type": "execute_result"
    }
   ],
   "source": [
    "a = 3\n",
    "b = 2\n",
    "a + b"
   ]
  },
  {
   "cell_type": "markdown",
   "metadata": {},
   "source": [
    "aという箱（変数）に3、bという箱に2を入れて、「a+b」のところで、その箱の中身を足すという計算をやっています。\n",
    "\n",
    "あと、すでに使われている変数をセルに入力すると、その変数がどんな値を持っているかが表示されます。"
   ]
  },
  {
   "cell_type": "code",
   "execution_count": 8,
   "metadata": {},
   "outputs": [
    {
     "data": {
      "text/plain": [
       "3"
      ]
     },
     "execution_count": 8,
     "metadata": {},
     "output_type": "execute_result"
    }
   ],
   "source": [
    "a"
   ]
  },
  {
   "cell_type": "markdown",
   "metadata": {},
   "source": [
    "# 配列（ベクトル）"
   ]
  },
  {
   "cell_type": "markdown",
   "metadata": {},
   "source": [
    "次に、複数の変数が1次元に並んでいる配列と呼ばれる構造を扱います。この配列によって、ベクトルや行列などを表現します。Pythonでは、多くのデータをこの配列を用いて扱います。\n",
    "\n",
    "Pythonにはリストと呼ばれるデータ構造など、配列を扱うための複数の方法がありますが、この解説では数値シミュレーションを実行することを主眼としているので、その中でもPythonで数値計算を行うためのライブラリである「numpy」を用いて配列を扱うことにります。\n",
    "\n",
    "まず、今ある環境でnumpyが使えるようにする作業（インポートと呼ばれる）を以下のように行います。"
   ]
  },
  {
   "cell_type": "code",
   "execution_count": 9,
   "metadata": {},
   "outputs": [],
   "source": [
    "import numpy as np"
   ]
  },
  {
   "cell_type": "markdown",
   "metadata": {},
   "source": [
    "これは、numpyというライブラリをインポートして、以降は「np」という略号で用いるということを意味しています。これ以降に、「np.何とか」というコードが出てきたら、それはnumpyを用いたコードであるという意味になります。この操作は、1回やっておけば後で繰り返す必要はありません。\n",
    "\n",
    "numpyでは、例えば以下のようにして1次元の配列（ベクトル）を作ります。要素の値が1, 2, 3である長さ3のベクトルです。"
   ]
  },
  {
   "cell_type": "code",
   "execution_count": 10,
   "metadata": {},
   "outputs": [],
   "source": [
    "a = np.array([1,2,3])"
   ]
  },
  {
   "cell_type": "markdown",
   "metadata": {},
   "source": [
    "配列の中身を知りたいときには、単にその配列の名前を入力して実行します。"
   ]
  },
  {
   "cell_type": "code",
   "execution_count": 11,
   "metadata": {},
   "outputs": [
    {
     "data": {
      "text/plain": [
       "array([1, 2, 3])"
      ]
     },
     "execution_count": 11,
     "metadata": {},
     "output_type": "execute_result"
    }
   ],
   "source": [
    "a"
   ]
  },
  {
   "cell_type": "markdown",
   "metadata": {},
   "source": [
    "配列もいろいろと演算をできます。"
   ]
  },
  {
   "cell_type": "code",
   "execution_count": 12,
   "metadata": {},
   "outputs": [
    {
     "data": {
      "text/plain": [
       "array([2, 4, 6])"
      ]
     },
     "execution_count": 12,
     "metadata": {},
     "output_type": "execute_result"
    }
   ],
   "source": [
    "a*2 # 積"
   ]
  },
  {
   "cell_type": "code",
   "execution_count": 13,
   "metadata": {},
   "outputs": [
    {
     "data": {
      "text/plain": [
       "6"
      ]
     },
     "execution_count": 13,
     "metadata": {},
     "output_type": "execute_result"
    }
   ],
   "source": [
    "np.sum(a) #  要素の和（1+2+3=6）、平均値はnp.mean"
   ]
  },
  {
   "cell_type": "code",
   "execution_count": 14,
   "metadata": {},
   "outputs": [
    {
     "data": {
      "text/plain": [
       "3"
      ]
     },
     "execution_count": 14,
     "metadata": {},
     "output_type": "execute_result"
    }
   ],
   "source": [
    "np.max(a) #  最大値（最小値はnp.min）"
   ]
  },
  {
   "cell_type": "code",
   "execution_count": 15,
   "metadata": {},
   "outputs": [
    {
     "data": {
      "text/plain": [
       "3"
      ]
     },
     "execution_count": 15,
     "metadata": {},
     "output_type": "execute_result"
    }
   ],
   "source": [
    "len(a) # ベクトルの長さ"
   ]
  },
  {
   "cell_type": "markdown",
   "metadata": {},
   "source": [
    "ベクトルを生成するときに、いちいち値を手で入力することは滅多にありません。その代わり、以下のコードをよく使います。"
   ]
  },
  {
   "cell_type": "code",
   "execution_count": 16,
   "metadata": {},
   "outputs": [
    {
     "data": {
      "text/plain": [
       "array([0., 0., 0., 0., 0., 0., 0., 0., 0., 0.])"
      ]
     },
     "execution_count": 16,
     "metadata": {},
     "output_type": "execute_result"
    }
   ],
   "source": [
    "b = np.zeros(10)\n",
    "b"
   ]
  },
  {
   "cell_type": "code",
   "execution_count": 17,
   "metadata": {},
   "outputs": [
    {
     "data": {
      "text/plain": [
       "array([0, 1, 2, 3, 4, 5, 6, 7, 8])"
      ]
     },
     "execution_count": 17,
     "metadata": {},
     "output_type": "execute_result"
    }
   ],
   "source": [
    "c = np.arange(0,9)\n",
    "c"
   ]
  },
  {
   "cell_type": "markdown",
   "metadata": {},
   "source": [
    "np.zeros(n)は長さnで全ての要素がゼロのベクトルを出力します。上のOut[22]で「0.,」とゼロのあとにピリオドがついているのは、その配列のゼロが少数として扱われているという意味です。整数が良ければ、np.zeros(10, dtype='int')とします。\n",
    "\n",
    "np.arange(x,y)はxからyまでの連続した値を要素としたベクトルを出力します。なにも指定をしなければ、値の間隔は1です。以下のように間隔を変えることも可能です（3つめの入力が間隔になります）。また、最初の入力xを省略して、np.arrange(y)とすると、0からy-1まで間隔1の値を出力します。"
   ]
  },
  {
   "cell_type": "code",
   "execution_count": 18,
   "metadata": {},
   "outputs": [
    {
     "data": {
      "text/plain": [
       "array([0. , 0.1, 0.2, 0.3, 0.4, 0.5, 0.6, 0.7, 0.8, 0.9, 1. , 1.1, 1.2,\n",
       "       1.3, 1.4, 1.5, 1.6, 1.7, 1.8, 1.9, 2. , 2.1, 2.2, 2.3, 2.4, 2.5,\n",
       "       2.6, 2.7, 2.8, 2.9])"
      ]
     },
     "execution_count": 18,
     "metadata": {},
     "output_type": "execute_result"
    }
   ],
   "source": [
    "c = np.arange(0,3,0.1)\n",
    "c"
   ]
  },
  {
   "cell_type": "code",
   "execution_count": 19,
   "metadata": {},
   "outputs": [
    {
     "data": {
      "text/plain": [
       "array([0, 1, 2, 3, 4, 5, 6, 7, 8, 9])"
      ]
     },
     "execution_count": 19,
     "metadata": {},
     "output_type": "execute_result"
    }
   ],
   "source": [
    "c = np.arange(10)\n",
    "c"
   ]
  },
  {
   "cell_type": "markdown",
   "metadata": {},
   "source": [
    "配列の値には以下のようにしてアクセスすることが出来ます。例えば、配列aのn番目の値を表示するためには、a[n-1]とします。なぜマイナス1が必要かというと、Pythonでは配列のインデックス（座標）がゼロから始まるからです。"
   ]
  },
  {
   "cell_type": "code",
   "execution_count": 20,
   "metadata": {},
   "outputs": [
    {
     "data": {
      "text/plain": [
       "array([0, 2, 4, 6])"
      ]
     },
     "execution_count": 20,
     "metadata": {},
     "output_type": "execute_result"
    }
   ],
   "source": [
    "a = np.arange(0,8,2)\n",
    "a"
   ]
  },
  {
   "cell_type": "code",
   "execution_count": 21,
   "metadata": {},
   "outputs": [
    {
     "data": {
      "text/plain": [
       "4"
      ]
     },
     "execution_count": 21,
     "metadata": {},
     "output_type": "execute_result"
    }
   ],
   "source": [
    "a[2] "
   ]
  },
  {
   "cell_type": "markdown",
   "metadata": {},
   "source": [
    "上の長さ4のベクトルの値はそれぞれ、a[0]=0、a[1]=2、a[2]=4、a[3]=6 となります。a[3]まででベクトルは終わりであることに注意してください。\n",
    "\n",
    "また、特定のベクトルの要素に値を代入することもできます。"
   ]
  },
  {
   "cell_type": "code",
   "execution_count": 22,
   "metadata": {},
   "outputs": [
    {
     "data": {
      "text/plain": [
       "array([0, 2, 4, 6])"
      ]
     },
     "execution_count": 22,
     "metadata": {},
     "output_type": "execute_result"
    }
   ],
   "source": [
    "a = np.arange(0,8,2)\n",
    "a"
   ]
  },
  {
   "cell_type": "code",
   "execution_count": 23,
   "metadata": {},
   "outputs": [
    {
     "data": {
      "text/plain": [
       "array([ 0,  2, 10,  6])"
      ]
     },
     "execution_count": 23,
     "metadata": {},
     "output_type": "execute_result"
    }
   ],
   "source": [
    "a[2]=10 #3番目の値を10に変える\n",
    "a"
   ]
  },
  {
   "cell_type": "markdown",
   "metadata": {},
   "source": [
    "# 配列（行列）"
   ]
  },
  {
   "cell_type": "markdown",
   "metadata": {},
   "source": [
    "次に、2次元の行列を扱います。例えば3x3の行列は以下のように作成できます。"
   ]
  },
  {
   "cell_type": "code",
   "execution_count": 24,
   "metadata": {},
   "outputs": [
    {
     "data": {
      "text/plain": [
       "array([[0, 1, 2],\n",
       "       [3, 4, 5],\n",
       "       [6, 7, 8]])"
      ]
     },
     "execution_count": 24,
     "metadata": {},
     "output_type": "execute_result"
    }
   ],
   "source": [
    "a = np.array([[0,1,2],[3,4,5],[6,7,8]])\n",
    "a"
   ]
  },
  {
   "cell_type": "markdown",
   "metadata": {},
   "source": [
    "以下の行列の要素にアクセスすることが出来ます。ここでも、3x3の行列の座標は行と列がそれぞれ0,1,2の範囲になることに気をつけてください。"
   ]
  },
  {
   "cell_type": "code",
   "execution_count": 25,
   "metadata": {},
   "outputs": [
    {
     "data": {
      "text/plain": [
       "4"
      ]
     },
     "execution_count": 25,
     "metadata": {},
     "output_type": "execute_result"
    }
   ],
   "source": [
    "a[1,1] #どの値が出るか、上の行列を見て考えてください。"
   ]
  },
  {
   "cell_type": "markdown",
   "metadata": {},
   "source": [
    "また、行列も特定の要素の値を以下のように変えることが出来ます。"
   ]
  },
  {
   "cell_type": "code",
   "execution_count": 26,
   "metadata": {},
   "outputs": [
    {
     "data": {
      "text/plain": [
       "array([[0, 1, 2],\n",
       "       [3, 4, 5],\n",
       "       [6, 7, 8]])"
      ]
     },
     "execution_count": 26,
     "metadata": {},
     "output_type": "execute_result"
    }
   ],
   "source": [
    "a = np.array([[0,1,2],[3,4,5],[6,7,8]])\n",
    "a"
   ]
  },
  {
   "cell_type": "code",
   "execution_count": 27,
   "metadata": {},
   "outputs": [
    {
     "data": {
      "text/plain": [
       "array([[ 0,  1,  2],\n",
       "       [ 3, 99,  5],\n",
       "       [ 6,  7,  8]])"
      ]
     },
     "execution_count": 27,
     "metadata": {},
     "output_type": "execute_result"
    }
   ],
   "source": [
    "a[1,1]=99\n",
    "a"
   ]
  },
  {
   "cell_type": "markdown",
   "metadata": {},
   "source": [
    "行列も自分で値を入力して作成することは少なく、例えば以下のコマンドで作成できます。"
   ]
  },
  {
   "cell_type": "code",
   "execution_count": 28,
   "metadata": {},
   "outputs": [
    {
     "data": {
      "text/plain": [
       "array([[0., 0., 0.],\n",
       "       [0., 0., 0.],\n",
       "       [0., 0., 0.]])"
      ]
     },
     "execution_count": 28,
     "metadata": {},
     "output_type": "execute_result"
    }
   ],
   "source": [
    "a = np.zeros((3,3)) #カッコが二重であることに注意してください。これには意味があるのですが、ちょっとここでは説明を省略します。\n",
    "a"
   ]
  },
  {
   "cell_type": "code",
   "execution_count": 29,
   "metadata": {},
   "outputs": [
    {
     "data": {
      "text/plain": [
       "array([[1., 0., 0.],\n",
       "       [0., 1., 0.],\n",
       "       [0., 0., 1.]])"
      ]
     },
     "execution_count": 29,
     "metadata": {},
     "output_type": "execute_result"
    }
   ],
   "source": [
    "b = np.eye(3) #これは3x3の単位行列を出力します。\n",
    "b"
   ]
  },
  {
   "cell_type": "markdown",
   "metadata": {},
   "source": [
    "行列の積は、np.dot()を用います。行列とベクトルの積も計算できます。"
   ]
  },
  {
   "cell_type": "code",
   "execution_count": 30,
   "metadata": {},
   "outputs": [
    {
     "data": {
      "text/plain": [
       "array([[ 3,  6,  9],\n",
       "       [12, 24, 36],\n",
       "       [21, 42, 63]])"
      ]
     },
     "execution_count": 30,
     "metadata": {},
     "output_type": "execute_result"
    }
   ],
   "source": [
    "a = np.array([[0,1,2],[3,4,5],[6,7,8]])\n",
    "b = np.array([[1,2,3],[1,2,3],[1,2,3]])\n",
    "c = np.dot(a,b)\n",
    "c"
   ]
  },
  {
   "cell_type": "markdown",
   "metadata": {},
   "source": [
    "行列から特定の行ベクトルや列ベクトルを取り出したい場合があります。例えば、3x3の行列から1行目を取り出したいときには、以下のようにします。"
   ]
  },
  {
   "cell_type": "code",
   "execution_count": 31,
   "metadata": {},
   "outputs": [
    {
     "data": {
      "text/plain": [
       "array([[0, 1, 2],\n",
       "       [3, 4, 5],\n",
       "       [6, 7, 8]])"
      ]
     },
     "execution_count": 31,
     "metadata": {},
     "output_type": "execute_result"
    }
   ],
   "source": [
    "a = np.array([[0,1,2],[3,4,5],[6,7,8]])\n",
    "a"
   ]
  },
  {
   "cell_type": "code",
   "execution_count": 32,
   "metadata": {},
   "outputs": [
    {
     "data": {
      "text/plain": [
       "array([0, 1, 2])"
      ]
     },
     "execution_count": 32,
     "metadata": {},
     "output_type": "execute_result"
    }
   ],
   "source": [
    "a[0,:]"
   ]
  },
  {
   "cell_type": "markdown",
   "metadata": {},
   "source": [
    "行列の範囲は縦横ともに0,1,2であることに注意してください。上のa[0,:]とすることにより、1行目（座標は0）の3つの値が取り出せています。このコロン「:」は、この場合はその行にある値を全部という意味になります。"
   ]
  },
  {
   "cell_type": "markdown",
   "metadata": {},
   "source": [
    "# 繰り返し"
   ]
  },
  {
   "cell_type": "markdown",
   "metadata": {},
   "source": [
    "同じ処理を複数回繰り返すことが簡単にできるのが、計算機プログラムの良いところです。Pythonでは以下のように繰り返しの処理を書きます。"
   ]
  },
  {
   "cell_type": "code",
   "execution_count": 33,
   "metadata": {},
   "outputs": [
    {
     "name": "stdout",
     "output_type": "stream",
     "text": [
      "0\n",
      "1\n",
      "2\n",
      "3\n",
      "4\n"
     ]
    }
   ],
   "source": [
    "for i in [0,1,2,3,4]:  #変数iを0,1,2,3,4と変化させて、「:」以下の命令を実行する\n",
    "    print(i)                # 変数iを表示する"
   ]
  },
  {
   "cell_type": "markdown",
   "metadata": {},
   "source": [
    "上のコードは、以下のように書くこともできます。こちらの方が楽なので、普通はこちらも使います。"
   ]
  },
  {
   "cell_type": "code",
   "execution_count": 34,
   "metadata": {},
   "outputs": [
    {
     "name": "stdout",
     "output_type": "stream",
     "text": [
      "0\n",
      "1\n",
      "2\n",
      "3\n",
      "4\n"
     ]
    }
   ],
   "source": [
    "for i in np.arange(5):  #これは、np.arange(5)が[0,1,2,3,4]というベクトルを出力することを用いてる\n",
    "    print(i)"
   ]
  },
  {
   "cell_type": "markdown",
   "metadata": {},
   "source": [
    "繰り返しを用いると、たくさんの計算を行うことも簡単です。"
   ]
  },
  {
   "cell_type": "code",
   "execution_count": 35,
   "metadata": {},
   "outputs": [
    {
     "name": "stdout",
     "output_type": "stream",
     "text": [
      "45\n"
     ]
    }
   ],
   "source": [
    "total = 0\n",
    "for i in np.arange(10):\n",
    "    total = total + i\n",
    "print(total)"
   ]
  },
  {
   "cell_type": "markdown",
   "metadata": {},
   "source": [
    "このとき、最後のprint()文をどこに置くかによって、出力は変わります。for文の繰り返しループの中にあるか外にあるかは、インデント（字下げ）で表現されます。上のコードと以下のコードの振る舞いの違いを考えてみてください。"
   ]
  },
  {
   "cell_type": "code",
   "execution_count": 36,
   "metadata": {},
   "outputs": [
    {
     "name": "stdout",
     "output_type": "stream",
     "text": [
      "0\n",
      "1\n",
      "3\n",
      "6\n",
      "10\n",
      "15\n",
      "21\n",
      "28\n",
      "36\n",
      "45\n"
     ]
    }
   ],
   "source": [
    "total = 0\n",
    "for i in np.arange(10):\n",
    "    total = total + i\n",
    "    print(total)"
   ]
  },
  {
   "cell_type": "markdown",
   "metadata": {},
   "source": [
    "この場合は、print文はループの中にあります。\n",
    "Jupyterは自動でインデントを行ってくれますが、入れ子のfor文を作ることも多いので、混乱をしないようにしてください。"
   ]
  },
  {
   "cell_type": "markdown",
   "metadata": {},
   "source": [
    "# 条件分岐"
   ]
  },
  {
   "cell_type": "markdown",
   "metadata": {},
   "source": [
    "プログラム中で、特定の条件が成り立ったときのみに命令を実行したい場合が良くあります。そうした場合にはif文を用います。"
   ]
  },
  {
   "cell_type": "code",
   "execution_count": 37,
   "metadata": {},
   "outputs": [
    {
     "name": "stdout",
     "output_type": "stream",
     "text": [
      "aは2より大きい\n"
     ]
    }
   ],
   "source": [
    "a=3\n",
    "if a>2:\n",
    "    print('aは2より大きい')\n",
    "else:\n",
    "    print('aは2より小さいか等しい')"
   ]
  },
  {
   "cell_type": "markdown",
   "metadata": {},
   "source": [
    "もしif以下の条件文（この場合はa>2）が成り立てばif以下の命令を実行、成り立たなければelse以下の命令を実行します。\n",
    "\n",
    "if文などで用いる条件文（比較演算子と呼ぶこともあります）は、以下のようなものがあります。"
   ]
  },
  {
   "cell_type": "code",
   "execution_count": 38,
   "metadata": {},
   "outputs": [
    {
     "data": {
      "text/plain": [
       "True"
      ]
     },
     "execution_count": 38,
     "metadata": {},
     "output_type": "execute_result"
    }
   ],
   "source": [
    "a == 10  # aが10に等しい\n",
    "a != 10  #aが10に等しくない\n",
    "a > 10   #aが10よりも大きい\n",
    "a >= 10 #aが10よりも大きいか等しい\n",
    "a < 10   #aが10よりも小さい\n",
    "a <= 10 # aが10よりも小さいか等しい"
   ]
  },
  {
   "cell_type": "markdown",
   "metadata": {},
   "source": [
    "複数の条件を論理演算子を用いて組み合わせて用いることも出来ます。論理演算子は、and、or、notがあります。"
   ]
  },
  {
   "cell_type": "code",
   "execution_count": 39,
   "metadata": {},
   "outputs": [
    {
     "name": "stdout",
     "output_type": "stream",
     "text": [
      "aが10に等しく、かつbは5より小さい\n"
     ]
    }
   ],
   "source": [
    "a=10\n",
    "b=3\n",
    "if a == 10 and b < 5:\n",
    "    print('aが10に等しく、かつbは5より小さい')\n",
    "    "
   ]
  },
  {
   "cell_type": "markdown",
   "metadata": {},
   "source": [
    "for文による繰り返しと、if文による条件分岐を組み合わせて用いることにより、いろいろなことが出来ます。\n",
    "例えば以下は0から100までの値のうち、3でも5でも割り切れるものを出力するコードです。"
   ]
  },
  {
   "cell_type": "code",
   "execution_count": 40,
   "metadata": {},
   "outputs": [
    {
     "name": "stdout",
     "output_type": "stream",
     "text": [
      "0\n",
      "15\n",
      "30\n",
      "45\n",
      "60\n",
      "75\n",
      "90\n"
     ]
    }
   ],
   "source": [
    "for i in np.arange(100):\n",
    "    if i % 3 ==0 and i % 5==0:   #記号%は余りを計算する。それが0であるということは、割り切れるということ\n",
    "        print(i)\n",
    "        "
   ]
  },
  {
   "cell_type": "markdown",
   "metadata": {},
   "source": [
    "# 自分で関数を定義する"
   ]
  },
  {
   "cell_type": "markdown",
   "metadata": {},
   "source": [
    "一般にプログラミング言語では、さまざまな処理をまとめて関数を定義して用います。\n",
    "\n",
    "関数とは大雑把にいえば、入力を関数という「ブラックボックス」に入れると、それに応じて何かが出力されるという構造のことです。\n",
    "\n",
    "Pythonでは、以下のようにして自分で関数を定義することが出来ます。"
   ]
  },
  {
   "cell_type": "code",
   "execution_count": 41,
   "metadata": {},
   "outputs": [],
   "source": [
    "def my_function( x ):   #def という命令の後に、関数の名前を入れ、カッコの中に入力となる変数を指定する\n",
    "    y=x*2\n",
    "    return y                  #return の後に、出力となる変数を指定する"
   ]
  },
  {
   "cell_type": "markdown",
   "metadata": {},
   "source": [
    "上のコードをセルに入れて、Shift+Returnキーを押すと、そのときは何も出力はされませんが、my_functionという関数が使えるようになります。\n",
    "\n",
    "この関数my_functionは、iという入力を受けたときに、それを2倍して出力するという働きをします。伝統的に、入力のことを引数（ひきすう）、出力のことを返り値と呼んだりもします。\n",
    "\n",
    "上のようにmy_functionを定義したら、それに入力をいれると、それに応じた出力を返します。"
   ]
  },
  {
   "cell_type": "code",
   "execution_count": 42,
   "metadata": {},
   "outputs": [
    {
     "data": {
      "text/plain": [
       "6"
      ]
     },
     "execution_count": 42,
     "metadata": {},
     "output_type": "execute_result"
    }
   ],
   "source": [
    "my_function(3)"
   ]
  },
  {
   "cell_type": "markdown",
   "metadata": {},
   "source": [
    "といった感じです。この関数の場合、入力をベクトルにすると、出力もベクトルになります。"
   ]
  },
  {
   "cell_type": "code",
   "execution_count": 43,
   "metadata": {},
   "outputs": [
    {
     "data": {
      "text/plain": [
       "array([2, 4, 6])"
      ]
     },
     "execution_count": 43,
     "metadata": {},
     "output_type": "execute_result"
    }
   ],
   "source": [
    "x=np.array([1,2,3])\n",
    "my_function(x)"
   ]
  },
  {
   "cell_type": "markdown",
   "metadata": {},
   "source": [
    "入力ベクトルの要素が2倍されて出力されています。また、入力をカンマで区切って複数にすることもできます。"
   ]
  },
  {
   "cell_type": "code",
   "execution_count": 44,
   "metadata": {},
   "outputs": [],
   "source": [
    "def my_function2(a,b):\n",
    "    y=a**b\n",
    "    return y"
   ]
  },
  {
   "cell_type": "code",
   "execution_count": 45,
   "metadata": {},
   "outputs": [
    {
     "data": {
      "text/plain": [
       "8"
      ]
     },
     "execution_count": 45,
     "metadata": {},
     "output_type": "execute_result"
    }
   ],
   "source": [
    "my_function2(2,3)"
   ]
  },
  {
   "cell_type": "markdown",
   "metadata": {},
   "source": [
    "関数の定義の中で、for文による繰り返しや、if文による条件分岐を使うことにより、複雑な機能を持つ関数を作れます。\n",
    "\n",
    "例えば、以下は入力ベクトルの値の和を出力する関数です。"
   ]
  },
  {
   "cell_type": "code",
   "execution_count": 46,
   "metadata": {},
   "outputs": [],
   "source": [
    "def my_sum(x):\n",
    "    sum=0                                #最初に変数sumにゼロを入れておかないと、値が確定しない（と思う）\n",
    "    for j in np.arange(len(x)):    #len(x)で入力ベクトルの長さとなるので、例えば長さ4のベクトルxを入力すると、forループは4回繰り返されて、そこでjは0,1,2,3と変化する。\n",
    "        sum=sum+x[j]                #入力ベクトルxのj番目の値を、合計数sumに足す。\n",
    "    return sum"
   ]
  },
  {
   "cell_type": "code",
   "execution_count": 47,
   "metadata": {},
   "outputs": [
    {
     "data": {
      "text/plain": [
       "10"
      ]
     },
     "execution_count": 47,
     "metadata": {},
     "output_type": "execute_result"
    }
   ],
   "source": [
    "a=np.array([1,2,3,4])\n",
    "my_sum(a)"
   ]
  },
  {
   "cell_type": "markdown",
   "metadata": {},
   "source": [
    "入力ベクトルの標準偏差を求める関数であれば、例えば以下のようになります。データ数$N$のときの標準偏差$\\sigma$は以下のように求められます。\n",
    "\n",
    "$\\sigma$=$\\sqrt{\\frac{1}{N} \\sum_{i=1}^{N} (x_i-\\bar{x})^2}$\n",
    "\n",
    "ここで、$\\bar{x}$は$x$の平均値です。なので関数の方でもまず平均値を求めた上で、上の和をとるようにします。"
   ]
  },
  {
   "cell_type": "code",
   "execution_count": 48,
   "metadata": {},
   "outputs": [],
   "source": [
    "def my_sd(x):\n",
    "    av=0                                 \n",
    "    for j in np.arange(len(x)):   #このfor文は入力xの平均値を計算している\n",
    "        av=av+x[j]\n",
    "    av=av/len(x)                      #合計を要素数で割ることにより、変数avに平均値が入る\n",
    "    \n",
    "    var=0\n",
    "    for j in np.arange(len(x)):          #このfor文は入力xの分散を計算している\n",
    "        var=var+(x[j]-av)*(x[j]-av)   \n",
    "    var=var/len(x)                          #これで変数varに分散が入る\n",
    "    \n",
    "    return np.sqrt(var)                   #np.sqrt()という関数は、入力の平方根を返す関数なのでそれを利用している"
   ]
  },
  {
   "cell_type": "code",
   "execution_count": 49,
   "metadata": {},
   "outputs": [
    {
     "data": {
      "text/plain": [
       "1.118033988749895"
      ]
     },
     "execution_count": 49,
     "metadata": {},
     "output_type": "execute_result"
    }
   ],
   "source": [
    "x=np.array([1,2,3,4])\n",
    "my_sd(x)                            #答えがあっているかの確認は、次節で説明しているnp.std()の出力と比較すればよい"
   ]
  },
  {
   "cell_type": "markdown",
   "metadata": {},
   "source": [
    "**練習問題**：以下のコードからコメントアウト#を取り除き、関数の空白部分に適当なコードを入れて、入力ベクトルxに含まれる値の最大値を返す関数を作成してください。ただし入力の値は常に正であるとします。"
   ]
  },
  {
   "cell_type": "code",
   "execution_count": 50,
   "metadata": {},
   "outputs": [],
   "source": [
    "#def my_max(x):\n",
    "    #max=0\n",
    "    #for j in np.arrange(len(x)):\n",
    "        ###\n",
    "        ### ここに何か入れてください\n",
    "        ###\n",
    "    \n",
    "    #return max"
   ]
  },
  {
   "cell_type": "markdown",
   "metadata": {},
   "source": [
    "# 用意されている様々な関数"
   ]
  },
  {
   "cell_type": "markdown",
   "metadata": {},
   "source": [
    "上では最大値や標準偏差を返す関数を作成しましたが、もちろんPythonやnumpyにはいろいろな関数が用意されています。例えば数学関数系では、以下のようなものがあります。"
   ]
  },
  {
   "cell_type": "markdown",
   "metadata": {},
   "source": [
    "|  機能  |  関数  |\n",
    "| ---- | ---- |\n",
    "|  平方根  |  np.sqrt(x)  |\n",
    "|  べき乗  |  np.power(x,y)  |\n",
    "| 絶対値 | np.fabs(x) |\n",
    "| 自然対数, 常用対数 | np.log(x) , np.log10(x) |\n",
    "| 三角関数 | np.sin(x), np.con(x), np.tan(x) |"
   ]
  },
  {
   "cell_type": "markdown",
   "metadata": {},
   "source": [
    "統計関係では、例えば以下のものがあります。"
   ]
  },
  {
   "cell_type": "markdown",
   "metadata": {},
   "source": [
    "|  機能  |  関数  |\n",
    "| ---- | ---- |\n",
    "|  合計  |  np.sum(x)  |\n",
    "|  平均値  |  np.average(x)  |\n",
    "| 標準偏差 | np.std(x) |"
   ]
  },
  {
   "cell_type": "markdown",
   "metadata": {},
   "source": [
    "入力xがベクトルの場合は、そのまま要素の平均値などを出力します。入力として行列を入れると、行あるいは列方向の平均値などをベクトルとして出力します。オプションとして、axis=0と指定すると行方向、axis=1と指定すると列方向の計算をします。例えば、"
   ]
  },
  {
   "cell_type": "code",
   "execution_count": 51,
   "metadata": {},
   "outputs": [
    {
     "data": {
      "text/plain": [
       "array([1.5, 2.5, 3.5])"
      ]
     },
     "execution_count": 51,
     "metadata": {},
     "output_type": "execute_result"
    }
   ],
   "source": [
    "x = np.array([[0,1,2],[3,4,5]])\n",
    "np.average(x,axis=0)   "
   ]
  },
  {
   "cell_type": "code",
   "execution_count": 52,
   "metadata": {},
   "outputs": [
    {
     "data": {
      "text/plain": [
       "array([1., 4.])"
      ]
     },
     "execution_count": 52,
     "metadata": {},
     "output_type": "execute_result"
    }
   ],
   "source": [
    "np.average(x,axis=1)"
   ]
  },
  {
   "cell_type": "markdown",
   "metadata": {},
   "source": [
    "他にも、いろいろと便利な関数が用意されています。乱数はシミュレーションで使うので覚えておいてください。"
   ]
  },
  {
   "cell_type": "markdown",
   "metadata": {},
   "source": [
    "|  機能  |  関数  |\n",
    "| ---- | ---- |\n",
    "|  1次元配列（ベクトル）の長さ |  len(x)  |\n",
    "|  配列の次元数 | np.shape(x) |\n",
    "|  0から1の範囲の一様分布に従う乱数（長さn） | np.random.rand(n) |\n",
    "|  平均0、標準偏差1の正規分布に従う乱数（長さn） | np.random.randn(n) |"
   ]
  },
  {
   "cell_type": "markdown",
   "metadata": {},
   "source": [
    "# グラフのプロット"
   ]
  },
  {
   "cell_type": "markdown",
   "metadata": {},
   "source": [
    "Pythonでグラフを作成する方法は様々なものがありますが、ここは広く持ちられているライブラリであるmatplotlibを用いた方法を紹介します。\n",
    "\n",
    "まず、以下のようにしてライブラリをインポートすると、以降はmatplotlibの関数をpltとして参照することになります。"
   ]
  },
  {
   "cell_type": "code",
   "execution_count": 53,
   "metadata": {},
   "outputs": [],
   "source": [
    "import matplotlib.pyplot as plt"
   ]
  },
  {
   "cell_type": "markdown",
   "metadata": {},
   "source": [
    "では、試しにグラフをプロットしてみましょう。xとして0から2$\\pi$までを0.01刻みで増加させた（長さが629となる）ベクトルを用意し、yに関数sin(x)を代入します。その後に、横軸をx、縦軸をyとしてプロットしてみます。"
   ]
  },
  {
   "cell_type": "code",
   "execution_count": 54,
   "metadata": {},
   "outputs": [
    {
     "data": {
      "text/plain": [
       "[<matplotlib.lines.Line2D at 0x1ee46f435f8>]"
      ]
     },
     "execution_count": 54,
     "metadata": {},
     "output_type": "execute_result"
    },
    {
     "data": {
      "image/png": "[encoded data removed]",
      "text/plain": [
       "<Figure size 432x288 with 1 Axes>"
      ]
     },
     "metadata": {},
     "output_type": "display_data"
    }
   ],
   "source": [
    "x=np.arange(0,2*np.pi,0.01)#np.piはnumpyで用意されている定数（円周率）。この行で、xに0から2piまでの範囲を0.01刻みで分割した長さ629のベクトルが代入される。\n",
    "y=np.sin(x)\n",
    "plt.plot(x,y)"
   ]
  },
  {
   "cell_type": "markdown",
   "metadata": {},
   "source": [
    "plt.plotは入力を2つとすると、最初の入力を横軸、次の入力を縦軸とします。入力を一つとすると、下のように横軸をベクトルのインデックス（何番目の要素か）、縦軸をその要素の値としてプロットします。"
   ]
  },
  {
   "cell_type": "code",
   "execution_count": 55,
   "metadata": {},
   "outputs": [
    {
     "data": {
      "text/plain": [
       "[<matplotlib.lines.Line2D at 0x1ee4725f7b8>]"
      ]
     },
     "execution_count": 55,
     "metadata": {},
     "output_type": "execute_result"
    },
    {
     "data": {
      "image/png": "[encoded data removed]",
      "text/plain": [
       "<Figure size 432x288 with 1 Axes>"
      ]
     },
     "metadata": {},
     "output_type": "display_data"
    }
   ],
   "source": [
    "x=np.arange(0,2*np.pi,0.01)\n",
    "y=np.sin(x)\n",
    "plt.plot(y)     #上のグラフと縦軸の値は同一だけど、横軸が異なっていることに注意"
   ]
  },
  {
   "cell_type": "markdown",
   "metadata": {},
   "source": [
    "複数のグラフを書くときには以下のようにします。加えて、範囲やラベルの指定方法を説明しています。コメントを見ると理解できると思います。"
   ]
  },
  {
   "cell_type": "code",
   "execution_count": 56,
   "metadata": {},
   "outputs": [
    {
     "data": {
      "image/png": "[encoded data removed]",
      "text/plain": [
       "<Figure size 432x288 with 1 Axes>"
      ]
     },
     "metadata": {},
     "output_type": "display_data"
    }
   ],
   "source": [
    "x=np.arange(0,2*np.pi,0.01)\n",
    "y1=np.sin(x)\n",
    "y2=np.cos(x)      #ここまでデータの用意\n",
    "\n",
    "plt.plot(x,y1, label = \"Data 1\", color=\"r\")   #sin(x)の描画。\"label\"でデータのラベルを指定。\"color\"で色を指定\n",
    "plt.plot(x,y2, label = \"Data 2\", color=\"b\")  #cos(x)の描画\n",
    "#色の指定方法はいろいろとあるが、赤/青/緑/黄/シアン/マゼンダ/黒/白をr/b/g/y/c/m/k/wで指定可能\n",
    "\n",
    "plt.legend() # 凡例を表示。場所は自動的に決められる。指定したければ、ple.legend(loc='upper right')などを用いる\n",
    "\n",
    "plt.xlim(1.0,6.0)     #x軸の範囲を最小値、最大値で指定\n",
    "plt.ylim(-1.2,1.2)    #y軸の範囲を最大値、最小値で指定\n",
    "\n",
    "plt.title(\"Graph Title\")    #グラフのタイトル\n",
    "plt.xlabel(\"X-axis\")        #x軸のタイトル\n",
    "plt.ylabel(\"Y-axis\")        #y軸のタイトル\n",
    "plt.show()                    #上の指定やオプションなどを全部ひっくるめてグラフを表示"
   ]
  },
  {
   "cell_type": "markdown",
   "metadata": {},
   "source": [
    "線ではなくて点でデータをプロットしたいときには、以下のようにします。　　"
   ]
  },
  {
   "cell_type": "code",
   "execution_count": 57,
   "metadata": {},
   "outputs": [
    {
     "data": {
      "text/plain": [
       "[<matplotlib.lines.Line2D at 0x1ee475492e8>]"
      ]
     },
     "execution_count": 57,
     "metadata": {},
     "output_type": "execute_result"
    },
    {
     "data": {
      "image/png": "[encoded data removed]",
      "text/plain": [
       "<Figure size 432x288 with 1 Axes>"
      ]
     },
     "metadata": {},
     "output_type": "display_data"
    }
   ],
   "source": [
    "x=np.arange(0,2*np.pi,0.01)\n",
    "y=np.sin(x)+0.5*np.random.randn(len(x)) #sin(x)に、正規分布に従う乱数を足しています。xの要素数はlen(x)なので、その数の乱数を用意しています。\n",
    "plt.plot(x,y,\"o\",color=\"r\")  #この\"o\"がプロットの形を指定しています。そのほか、\".\"（小さい点）、\"+\"、\"x\"、\"*\"などがあります。"
   ]
  },
  {
   "cell_type": "markdown",
   "metadata": {},
   "source": [
    "# オイラー法による微分方程式の数値解法"
   ]
  },
  {
   "cell_type": "markdown",
   "metadata": {},
   "source": [
    "微分方程式の振る舞いを数値的に解析する手法は様々なものがありますが、まずここでは最も簡単なものであるオイラー法を解説します。\n",
    "\n",
    "$dx(t)/dt=f(x)$\n",
    "\n",
    "の形の微分方程式を考えます。ここで$x$は状態を表すベクトルとし、$f(x)$は$x$のみで決まり時間には依存しないとします。\n",
    "\n",
    "この微分方程式について、一つの初期条件からの時間発展を調べたいとします。しかし、微分扱うために必要な無限小の時間変化$dt$を計算機上で扱うのは難しいため、その代わりに有限の小さい時間変化$\\Delta t$を使います。微分の定義を考えると、時間間隔が十分に短いという極限操作が必要ですが、$\\Delta t$が十分に小さければ以下のように近似的に扱うことができるはずです。\n",
    "\n",
    "$dx/dt = \\lim_{\\Delta t \\rightarrow 0}\\{x(t+\\Delta t)-x(t)\\}/\\Delta t \\fallingdotseq \\{x(t+\\Delta t)-x(t)\\}/\\Delta t = f(x)$\n",
    "\n",
    "この近似後の式を変形すると、\n",
    "\n",
    "$x(t+\\Delta t) = x(t)+f(x)\\Delta t$\n",
    "\n",
    "となります。つまり、小さい時間間隔$\\Delta t$後の状態$x(t+\\Delta t)$は、今の状態$x(t)$に$f(x)\\Delta t$を加えたものとなります。この近似的な時間発展方程式に従い、$x(t)$の時間発展を求める手法のことをオイラー法と呼びます。\n",
    "\n",
    "では簡単な例として、以下の1変数の微分方程式の時間発展を考えます。\n",
    "\n",
    "$dx/dt = a - bx$\n",
    "\n",
    "これは、一定のレートで生成され、その濃度に応じて分解されていく化学反応のモデルと解釈することもできます。ここで、$a$と$b$は定数とし、$t=0$での初期条件を$x(0)=0$、また$a=1$、$b=0.1$とします。この微分方程式の時間発展を、$t=0$から$100$の範囲で、時間刻み$\\Delta t=0.01$としてオイラー法によって求めるコード（の例）は以下になります。\n"
   ]
  },
  {
   "cell_type": "code",
   "execution_count": 58,
   "metadata": {},
   "outputs": [
    {
     "data": {
      "text/plain": [
       "[<matplotlib.lines.Line2D at 0x1ee4759fc50>]"
      ]
     },
     "execution_count": 58,
     "metadata": {},
     "output_type": "execute_result"
    },
    {
     "data": {
      "image/png": "[encoded data removed]",
      "text/plain": [
       "<Figure size 432x288 with 1 Axes>"
      ]
     },
     "metadata": {},
     "output_type": "display_data"
    }
   ],
   "source": [
    "def func(x,a,b):   #関数funcが入力xに対してその微分を返す\n",
    "    dx=a-b*x\n",
    "    return dx\n",
    "\n",
    "a=1.0                #パラメータa\n",
    "b=0.1                #パラメータb\n",
    "dt=0.01             #時間刻み\n",
    "t_max=100         #tの最大値\n",
    "\n",
    "times=np.arange(0,t_max,dt)      #timesは出力される時刻を要素としたベクトル\n",
    "total_steps=len(times)               #total_stepsは総ステップ数\n",
    "\n",
    "x=np.zeros(total_steps)             #この行で、長さtotal_stepsの出力用ベクトルxを用意しておく\n",
    "x[0]=0                                     #xの初期値を最初の要素に代入\n",
    "\n",
    "for i in np.arange(total_steps-1):        #オイラー法のメインループ。繰り返し回数がtotal_steps-1であることに注意。\n",
    "    x[i+1]=x[i]+func(x[i],a,b)*dt         #オイラー法の計算\n",
    "\n",
    "plt.plot(times,x)                        #横軸を時刻t、縦軸をxとしてグラフをプロット"
   ]
  },
  {
   "cell_type": "markdown",
   "metadata": {},
   "source": [
    "定常値である$x=b/a$に近づいていく振る舞いが見れます。\n",
    "\n",
    "もちろん、変数が複数ある場合にも、同じように数値的に振る舞いを解析することが出来ます。例えば以下の簡単な微分方程式\n",
    "\n",
    "$dx_0/dt = a-bx_0$\n",
    "\n",
    "$dx_1/dt = (x_0)^2-cx_1$\n",
    "\n",
    "の時間発展をオイラー法で求めるコード例は以下になります（$t=0\\sim40$、$\\Delta t=0.01$としています）。"
   ]
  },
  {
   "cell_type": "code",
   "execution_count": 59,
   "metadata": {},
   "outputs": [
    {
     "data": {
      "image/png": "[encoded data removed]",
      "text/plain": [
       "<Figure size 432x288 with 1 Axes>"
      ]
     },
     "metadata": {},
     "output_type": "display_data"
    }
   ],
   "source": [
    "def func(x,a,b,c):#関数funcが入力xに対してその微分を返す。ただし入力x、出力dxは要素数2のベクトルとしている\n",
    "    dx=np.zeros(2)   #複数の値をベクトルで返すためには、まずベクトルを用意する必要がある\n",
    "    dx[0]=a-b*x[0]\n",
    "    dx[1]=x[0]*x[0]-c*x[1]\n",
    "    return dx\n",
    "\n",
    "a=1.0                #パラメータa\n",
    "b=0.1                #パラメータb\n",
    "c=10.0              #パラメータc\n",
    "dt=0.01             #時間刻み\n",
    "t_max=40         #tの最大値\n",
    "\n",
    "times=np.arange(0,t_max,dt)      #timesは出力される時刻を要素としたベクトル\n",
    "total_steps=len(times)                 #total_stepsは総ステップ数\n",
    "\n",
    "x=np.zeros((total_steps,2))           #（total_steps行、2列）の出力用の2次元行列であるxを用意\n",
    "x[0,0]=0                                     #xの初期値を最初の要素に代入。x[0,0]とx[0,1]の最初の要素は時刻、次の要素は変数のインデックス\n",
    "x[0,1]=0\n",
    "\n",
    "for i in np.arange(total_steps-1):                 #オイラー法のメインループ\n",
    "    x[i+1,:]=x[i,:]+func(x[i,:],a,b,c)*dt         #オイラー法の計算。ここでx[i,:]は、i番目の時刻の状態xを表す要素数2のベクトルになる\n",
    "\n",
    "plt.plot(times,x[:,0],label=\"x_0\") \n",
    "plt.plot(times,x[:,1],label=\"x_1\")\n",
    "plt.legend()\n",
    "plt.xlabel(\"time\")        \n",
    "plt.ylabel(\"x\")     \n",
    "plt.show()"
   ]
  },
  {
   "cell_type": "markdown",
   "metadata": {},
   "source": [
    "$x_1$は$x_0$が上昇してきた後に立ち上がることが見て取れます。"
   ]
  },
  {
   "cell_type": "markdown",
   "metadata": {},
   "source": [
    "**練習問題**\n",
    "\n",
    "2つの種（例えばウサギとオオカミ）が「被食者ー捕食者」の関係にある生態系の簡単なモデルとして、以下のLotka-Volterra方程式を考える。\n",
    "\n",
    "$dx_0/dt = ax_0-bx_0x_1$\n",
    "\n",
    "$dx_1/dt = cx_0x_1-dx_1$\n",
    "\n",
    "ここで、$x_0$と$x_1$はそれぞれ被食者と捕食者の個体数、$a,b,c,d$は正の定数パラメータとする。$bx_0x_1$の項は食べられることによる被食者の減少、$cx_0x_1$の項は食べることによる捕食者の増加をそれぞれ表している。$a=b=c=d=1$、$\\Delta t=0.001$、$t=0$での初期条件を$x_0=2$、 $x_1=1$としたとき、$t=0 \\sim 30$の範囲の時間発展をプロットせよ。また、パラメータやモデルを適当に変えて、その振る舞いの変化を観察せよ。"
   ]
  },
  {
   "cell_type": "markdown",
   "metadata": {},
   "source": [
    "**注** :オイラー法は基本的に誤差が大きい（$\\Delta t$のオーダーを持つ）手法である。ルンゲ・クッタ法など、より誤差の少ない方法も提案されており、広く用いられている。"
   ]
  },
  {
   "cell_type": "code",
   "execution_count": null,
   "metadata": {},
   "outputs": [],
   "source": []
  }
 ],
 "metadata": {
  "kernelspec": {
   "display_name": "Python 3",
   "language": "python",
   "name": "python3"
  },
  "language_info": {
   "codemirror_mode": {
    "name": "ipython",
    "version": 3
   },
   "file_extension": ".py",
   "mimetype": "text/x-python",
   "name": "python",
   "nbconvert_exporter": "python",
   "pygments_lexer": "ipython3",
   "version": "3.6.5"
  },
  "toc": {
   "base_numbering": 1,
   "nav_menu": {},
   "number_sections": true,
   "sideBar": true,
   "skip_h1_title": false,
   "title_cell": "Table of Contents",
   "title_sidebar": "Contents",
   "toc_cell": false,
   "toc_position": {},
   "toc_section_display": true,
   "toc_window_display": true
  }
 },
 "nbformat": 4,
 "nbformat_minor": 2
}
